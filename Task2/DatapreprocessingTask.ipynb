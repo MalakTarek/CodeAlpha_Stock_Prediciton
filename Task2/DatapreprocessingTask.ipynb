{
  "nbformat": 4,
  "nbformat_minor": 0,
  "metadata": {
    "colab": {
      "provenance": []
    },
    "kernelspec": {
      "name": "python3",
      "display_name": "Python 3"
    },
    "language_info": {
      "name": "python"
    }
  },
  "cells": [
    {
      "cell_type": "code",
      "execution_count": 2,
      "metadata": {
        "id": "U64V0m0vkB3A"
      },
      "outputs": [],
      "source": [
        "#importing libraries\n",
        "import pandas as pd\n",
        "import numpy as np\n",
        "from sklearn.model_selection import train_test_split\n",
        "from sklearn.preprocessing import StandardScaler, OneHotEncoder\n",
        "from sklearn.impute import SimpleImputer\n",
        "from sklearn.compose import ColumnTransformer\n",
        "from sklearn.pipeline import Pipeline"
      ]
    },
    {
      "cell_type": "code",
      "source": [
        "#Loading the dataset\n",
        "data = pd.read_csv('data.csv')"
      ],
      "metadata": {
        "id": "FAFyUMOtnduZ"
      },
      "execution_count": 3,
      "outputs": []
    },
    {
      "cell_type": "code",
      "source": [
        "#Display information about our data\n",
        "print(data.head())  #Shows the first few rows of the data for an overview\n",
        "print(data.info())  #shows information about the data including types and missing values"
      ],
      "metadata": {
        "colab": {
          "base_uri": "https://localhost:8080/"
        },
        "id": "JuZ56ZB5ngTc",
        "outputId": "f57905de-984e-46a7-f138-326adbc3cfb7"
      },
      "execution_count": 4,
      "outputs": [
        {
          "output_type": "stream",
          "name": "stdout",
          "text": [
            "   Unnamed: 0       brand              model  color registration_date  year  \\\n",
            "0           0  alfa-romeo     Alfa Romeo GTV    red           10/1995  1995   \n",
            "1           1  alfa-romeo     Alfa Romeo 164  black           02/1995  1995   \n",
            "2           2  alfa-romeo  Alfa Romeo Spider  black           02/1995  1995   \n",
            "3           3  alfa-romeo  Alfa Romeo Spider  black           07/1995  1995   \n",
            "4           4  alfa-romeo     Alfa Romeo 164    red           11/1996  1996   \n",
            "\n",
            "  price_in_euro power_kw power_ps transmission_type fuel_type  \\\n",
            "0          1300      148      201            Manual    Petrol   \n",
            "1         24900      191      260            Manual    Petrol   \n",
            "2          5900      110      150           Unknown    Petrol   \n",
            "3          4900      110      150            Manual    Petrol   \n",
            "4         17950      132      179            Manual    Petrol   \n",
            "\n",
            "  fuel_consumption_l_100km fuel_consumption_g_km  mileage_in_km  \\\n",
            "0            10,9 l/100 km              260 g/km       160500.0   \n",
            "1                      NaN              - (g/km)       190000.0   \n",
            "2                      NaN              - (g/km)       129000.0   \n",
            "3             9,5 l/100 km              225 g/km       189500.0   \n",
            "4             7,2 l/100 km              - (g/km)        96127.0   \n",
            "\n",
            "                       offer_description  \n",
            "0                              2.0 V6 TB  \n",
            "1                    Q4 Allrad, 3.2L GTA  \n",
            "2                          ALFA ROME 916  \n",
            "3                   2.0 16V Twin Spark L  \n",
            "4  3.0i Super V6, absoluter Topzustand !  \n",
            "<class 'pandas.core.frame.DataFrame'>\n",
            "RangeIndex: 15386 entries, 0 to 15385\n",
            "Data columns (total 15 columns):\n",
            " #   Column                    Non-Null Count  Dtype  \n",
            "---  ------                    --------------  -----  \n",
            " 0   Unnamed: 0                15386 non-null  int64  \n",
            " 1   brand                     15386 non-null  object \n",
            " 2   model                     15386 non-null  object \n",
            " 3   color                     15382 non-null  object \n",
            " 4   registration_date         15386 non-null  object \n",
            " 5   year                      15386 non-null  object \n",
            " 6   price_in_euro             15386 non-null  object \n",
            " 7   power_kw                  15383 non-null  object \n",
            " 8   power_ps                  15383 non-null  object \n",
            " 9   transmission_type         15386 non-null  object \n",
            " 10  fuel_type                 15386 non-null  object \n",
            " 11  fuel_consumption_l_100km  14554 non-null  object \n",
            " 12  fuel_consumption_g_km     15386 non-null  object \n",
            " 13  mileage_in_km             15381 non-null  float64\n",
            " 14  offer_description         15386 non-null  object \n",
            "dtypes: float64(1), int64(1), object(13)\n",
            "memory usage: 1.8+ MB\n",
            "None\n"
          ]
        }
      ]
    },
    {
      "cell_type": "code",
      "source": [
        "#showing the year column before cleaning\n",
        "unique_years = data['year'].unique()\n",
        "print(\"Unique values in 'year':\", unique_years)"
      ],
      "metadata": {
        "colab": {
          "base_uri": "https://localhost:8080/"
        },
        "id": "Y8rcY4Hanmg2",
        "outputId": "36ad2083-e747-4f0e-b89a-a8851c00a0de"
      },
      "execution_count": 5,
      "outputs": [
        {
          "output_type": "stream",
          "name": "stdout",
          "text": [
            "Unique values in 'year': ['1995' '1996' '1997' '1998' '1999' '2000' '2001' '2002' '2003' '2004'\n",
            " '2005' '2006' '2007' '2008' '2009' '2010' '2011' '2012' '2013' '2014'\n",
            " '2015' '2016' '2017' '2018' '2019' '2020' '2021' '2022' '2023' 'Petrol'\n",
            " 'Automatic' 'Manual' 'Diesel' '04/2017']\n"
          ]
        }
      ]
    },
    {
      "cell_type": "code",
      "source": [
        "#Cleaning the 'year' column\n",
        "def clean_year(year):\n",
        "    try:\n",
        "        year = int(year)\n",
        "        if 1995 <= year <= 2023:\n",
        "            return year\n",
        "    except ValueError:\n",
        "        return np.nan\n",
        "    return np.nan"
      ],
      "metadata": {
        "id": "BG-KJIJbnqZB"
      },
      "execution_count": 6,
      "outputs": []
    },
    {
      "cell_type": "code",
      "source": [
        "#cleaning the 'year' column using the cleaning function\n",
        "data['year'] = data['year'].apply(clean_year)\n",
        "data = data.dropna(subset=['year']) #Dropping rows where 'year' is NaN after cleaning\n",
        "data['year'] = data['year'].astype(int) #Converting 'year' to integer type"
      ],
      "metadata": {
        "colab": {
          "base_uri": "https://localhost:8080/"
        },
        "id": "G9kGyOXInsyb",
        "outputId": "1c271771-1a15-4f60-c351-69b91514e428"
      },
      "execution_count": 7,
      "outputs": [
        {
          "output_type": "stream",
          "name": "stderr",
          "text": [
            "<ipython-input-7-79a791752f56>:4: SettingWithCopyWarning: \n",
            "A value is trying to be set on a copy of a slice from a DataFrame.\n",
            "Try using .loc[row_indexer,col_indexer] = value instead\n",
            "\n",
            "See the caveats in the documentation: https://pandas.pydata.org/pandas-docs/stable/user_guide/indexing.html#returning-a-view-versus-a-copy\n",
            "  data['year'] = data['year'].astype(int) #Converting 'year' to integer type\n"
          ]
        }
      ]
    },
    {
      "cell_type": "code",
      "source": [
        "unique_years = data['year'].unique()\n",
        "print(\"Unique values in 'year':\", unique_years) #showing the year column after cleaning"
      ],
      "metadata": {
        "colab": {
          "base_uri": "https://localhost:8080/"
        },
        "id": "LajHlc3Mnv8C",
        "outputId": "d232b3d7-a439-4c40-f7f9-78d6de10945b"
      },
      "execution_count": 8,
      "outputs": [
        {
          "output_type": "stream",
          "name": "stdout",
          "text": [
            "Unique values in 'year': [1995 1996 1997 1998 1999 2000 2001 2002 2003 2004 2005 2006 2007 2008\n",
            " 2009 2010 2011 2012 2013 2014 2015 2016 2017 2018 2019 2020 2021 2022\n",
            " 2023]\n"
          ]
        }
      ]
    },
    {
      "cell_type": "code",
      "source": [
        "#convert other numerical columns to numeric datatype\n",
        "def to_numeric(df, column):\n",
        "    df[column] = pd.to_numeric(df[column], errors='coerce')\n",
        "\n",
        "numeric_columns = ['price_in_euro', 'power_kw', 'power_ps', 'fuel_consumption_l_100km', 'mileage_in_km']\n",
        "for col in numeric_columns:\n",
        "    to_numeric(data, col)"
      ],
      "metadata": {
        "id": "XPZhBXKFnzXq"
      },
      "execution_count": 9,
      "outputs": []
    },
    {
      "cell_type": "code",
      "source": [
        "#Handling missing values and scaling\n",
        "#Defining numeric and categorical features\n",
        "num_features = ['year', 'price_in_euro', 'power_kw', 'fuel_consumption_l_100km', 'mileage_in_km', 'power_ps']#numerical columns\n",
        "cat_features = ['brand', 'model', 'color', 'transmission_type', 'fuel_type']#categprical columns"
      ],
      "metadata": {
        "id": "Rq6aT6V-n2sm"
      },
      "execution_count": 10,
      "outputs": []
    },
    {
      "cell_type": "code",
      "source": [
        "#Creating pipelines for numeric and categorical preprocessing\n",
        "\n",
        "num_pipeline = Pipeline([\n",
        "    ('imputer', SimpleImputer(strategy='median')),  #Handles missing values in numeric columns by replacing with median(imputation)\n",
        "    ('scaler', StandardScaler())  #Scaling numeric features to have mean=0 and std=1\n",
        "])\n",
        "\n",
        "cat_pipeline = Pipeline([\n",
        "    ('imputer', SimpleImputer(strategy='most_frequent')),  #Handles missing values in categorical columns by replacing with most frequent value(mode)\n",
        "    ('onehot', OneHotEncoder(handle_unknown='ignore'))  #One-hot encode categorical features, ignore unknown categories\n",
        "])\n",
        "\n",
        "# Combine both pipelines into a single preprocessor\n",
        "preprocessor = ColumnTransformer([\n",
        "    ('num', num_pipeline, num_features),\n",
        "    ('cat', cat_pipeline, cat_features)\n",
        "])"
      ],
      "metadata": {
        "id": "EpHg9Crin56E"
      },
      "execution_count": 11,
      "outputs": []
    },
    {
      "cell_type": "code",
      "source": [
        "#Handling outliers by replacing them with median values\n",
        "for col in numeric_columns:\n",
        "    col_zscore = (data[col] - data[col].mean()) / data[col].std()  #Calculate Z-scores\n",
        "    outliers = data[np.abs(col_zscore) > 3]  #Identify outliers where Z-score > 3(threshold is 3)\n",
        "    data.loc[outliers.index, col] = data[col].median()  #Replacing outliers with median value of the column\n",
        "\n",
        "#Applying the preprocessing(transofrmations) pipelines to the data\n",
        "data_preprocessed = preprocessor.fit_transform(data)"
      ],
      "metadata": {
        "colab": {
          "base_uri": "https://localhost:8080/"
        },
        "id": "-cH5Gm9_n9xT",
        "outputId": "fb1457e2-d535-418b-c583-11ef3987b6bf"
      },
      "execution_count": 12,
      "outputs": [
        {
          "output_type": "stream",
          "name": "stderr",
          "text": [
            "/usr/local/lib/python3.10/dist-packages/numpy/lib/nanfunctions.py:1215: RuntimeWarning: Mean of empty slice\n",
            "  return np.nanmean(a, axis, out=out, keepdims=keepdims)\n"
          ]
        }
      ]
    },
    {
      "cell_type": "code",
      "source": [
        "#Splitting the data into training and testing sets\n",
        "X = data_preprocessed  #Features\n",
        "y = data['price_in_euro']  #Target(price)\n",
        "\n",
        "#Splitting the data into training and testing sets (80% for training , 20% for testing)\n",
        "X_train, X_test, y_train, y_test = train_test_split(X, y, test_size=0.2, random_state=42)"
      ],
      "metadata": {
        "id": "HD_yGWOfoBvS"
      },
      "execution_count": 13,
      "outputs": []
    }
  ]
}